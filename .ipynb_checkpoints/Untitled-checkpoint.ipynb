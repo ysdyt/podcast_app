{
 "cells": [
  {
   "cell_type": "code",
   "execution_count": 2,
   "metadata": {},
   "outputs": [],
   "source": [
    "import MeCab\n",
    "import re\n",
    "from collections import Counter\n",
    "import matplotlib.pyplot as plt\n",
    "from wordcloud import WordCloud"
   ]
  },
  {
   "cell_type": "code",
   "execution_count": 21,
   "metadata": {},
   "outputs": [
    {
     "data": {
      "text/plain": [
       "'こんにちは 吉田 です こんにちは に の 平和 です 道 は 広陵 です じゃあ 今日 も 取っ て いき ます か お願い しま でしょ あの ネタ フリー 甲斐 小田山 話 という こと で はい では ます と 広陵 です と 今回 は 今回 お話 し、 たい の は ブースト っていう わり と 最近 か ま 一応、 赤 や 黄 に 上がっ て た の は えーっと 去年 赤い 具 の 日付 だ と 去年 の 十 月 子 な ん です けど えっ と スタンフォード スタンフォード です ね。 スタンフォード 大学 から デッド 論文 で えーっと 享受 者 の 中 に あのー ま 高清 ら で 有名 な アンドリュー ング 先生 が 論文 で えーっと ま 名前 の 通り ブー スティング ベース の 学習 機 な ん です けど と ま'"
      ]
     },
     "execution_count": 21,
     "metadata": {},
     "output_type": "execute_result"
    }
   ],
   "source": [
    "import pickle\n",
    " \n",
    "with open('./tesssssssss.pickle', 'rb') as f:\n",
    "    data= pickle.load(f)\n",
    "    \n",
    "data['results']['transcripts'][0]['transcript']"
   ]
  },
  {
   "cell_type": "code",
   "execution_count": 18,
   "metadata": {},
   "outputs": [
    {
     "name": "stdout",
     "output_type": "stream",
     "text": [
      "こんにちは吉田ですこんにちはにの平和です道は広陵ですじゃあ今日も取っていきますかお願いしまでしょあのネタフリー甲斐小田山話ということではいではますと広陵ですと今回は今回お話し、たいのはブーストっていうわりと最近かま一応、赤や黄に上がってたのはえーっと去年赤い具の日付だと去年の十月子なんですけどえっとスタンフォードスタンフォードですね。スタンフォード大学からデッド論文でえーっと享受者の中にあのーま高清らで有名なアンドリューング先生が論文でえーっとま名前の通りブースティングベースの学習機なんですけどとま\n"
     ]
    }
   ],
   "source": [
    "print(data['results']['transcripts'][0]['transcript'].replace(' ', ''))"
   ]
  },
  {
   "cell_type": "code",
   "execution_count": 22,
   "metadata": {},
   "outputs": [],
   "source": [
    "mecab = MeCab.Tagger ('-d /usr/local/lib/mecab/dic/mecab-ipadic-neologd')"
   ]
  },
  {
   "cell_type": "code",
   "execution_count": 45,
   "metadata": {},
   "outputs": [],
   "source": [
    "node = mecab.parseToNode(data['results']['transcripts'][0]['transcript'].replace(' ', ''))\n",
    "target_part = ('名詞')\n",
    "word = []\n",
    "\n",
    "while node:\n",
    "    if node.feature.split(\",\")[0] in target_part:\n",
    "        #print(node.surface)\n",
    "        word.append(node.surface)\n",
    "    node = node.next"
   ]
  },
  {
   "cell_type": "code",
   "execution_count": 46,
   "metadata": {},
   "outputs": [
    {
     "name": "stdout",
     "output_type": "stream",
     "text": [
      "スタンフォード: 3\n"
     ]
    }
   ],
   "source": [
    "word_freq_dict = Counter(word)\n",
    "stop_words = ['音', '化', '井上', 'お願い', 'こと', '今日', 'それ', 'ところ', 'みたい', '話','的','人','何','自分','方','感じ','みんな','私','僕','今','時',\n",
    "              '中','後','気','番','誰','風','結局', '技術','確か','そうそう','前','白金','鉱業','工業','最近','他','一番','好き','名前','データ','データサイエンティスト',\n",
    "              '会社','分析','会','回','人たち','ブレインパッド','毎回','逆','内容','俺','じゃなくて','住所','人','一','あなた','データサイエンス', '一緒', '吉田', '十',\n",
    "              '二','ソレ', '我々', '二つ', '今回', '上', '普通', '訳', 'たくさん', 'めちゃくちゃ', 'そうだ', '全部', '五', '八','百','側','一つ','さっき']\n",
    "min_cnt = 2\n",
    "\n",
    "word_freq_dict_without_sw = {}\n",
    "for k,v in word_freq_dict.items():\n",
    "    #print(k)\n",
    "    if k not in stop_words and v > min_cnt: # stop wordの除外, 最低出現数の制限\n",
    "        if not re.search(r'^[あ-ん]{1,2}$', k): # ひらがな1~2文字の単語も除外\n",
    "            #print(k,v)\n",
    "            word_freq_dict_without_sw[k] = v\n",
    "            \n",
    "for k, v in sorted(word_freq_dict_without_sw.items(), key=lambda x: -x[1]):\n",
    "    print(str(k) + \": \" + str(v))"
   ]
  },
  {
   "cell_type": "code",
   "execution_count": 47,
   "metadata": {},
   "outputs": [
    {
     "data": {
      "text/plain": [
       "<wordcloud.wordcloud.WordCloud at 0x110a27310>"
      ]
     },
     "execution_count": 47,
     "metadata": {},
     "output_type": "execute_result"
    },
    {
     "data": {
      "image/png": "[encoded data removed]",
      "text/plain": [
       "<Figure size 432x288 with 1 Axes>"
      ]
     },
     "metadata": {
      "needs_background": "light"
     },
     "output_type": "display_data"
    }
   ],
   "source": [
    "wordcloud = WordCloud(\n",
    "    background_color=\"white\",\n",
    "    max_words = 500,\n",
    "    max_font_size=140,\n",
    "    random_state=2019,\n",
    "    width=900,\n",
    "    height=500,\n",
    "    font_path=\"~/Library/Fonts/RictyDiminished-Bold.ttf\",\n",
    "    stopwords=set(stop_words),\n",
    "    )\n",
    "wordcloud.generate_from_frequencies(word_freq_dict_without_sw)\n",
    "plt.imshow(wordcloud)\n",
    "wordcloud.to_file(\"./fig/test.png\")"
   ]
  },
  {
   "cell_type": "code",
   "execution_count": null,
   "metadata": {},
   "outputs": [],
   "source": []
  }
 ],
 "metadata": {
  "kernelspec": {
   "display_name": "Python 3",
   "language": "python",
   "name": "python3"
  },
  "language_info": {
   "codemirror_mode": {
    "name": "ipython",
    "version": 3
   },
   "file_extension": ".py",
   "mimetype": "text/x-python",
   "name": "python",
   "nbconvert_exporter": "python",
   "pygments_lexer": "ipython3",
   "version": "3.8.0"
  }
 },
 "nbformat": 4,
 "nbformat_minor": 2
}
